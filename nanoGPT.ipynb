{
 "cells": [
  {
   "cell_type": "code",
   "execution_count": null,
   "id": "0e04aa05",
   "metadata": {},
   "outputs": [],
   "source": [
    "from tqdm import tqdm"
   ]
  },
  {
   "cell_type": "code",
   "execution_count": 2,
   "id": "df621a1b",
   "metadata": {},
   "outputs": [
    {
     "name": "stdout",
     "output_type": "stream",
     "text": [
      "length of text: 600885 characters\n"
     ]
    }
   ],
   "source": [
    "# read in a text file\n",
    "with open('nietzsche.txt', 'r') as f:\n",
    "    text = f.read()\n",
    "\n",
    "# remove weird characters\n",
    "for character in \"¤¦©«Ã†\":\n",
    "    text = text.replace(character, \"\")\n",
    "\n",
    "print(f\"length of text: {len(text)} characters\")"
   ]
  },
  {
   "cell_type": "code",
   "execution_count": 3,
   "id": "8a72643e",
   "metadata": {},
   "outputs": [
    {
     "name": "stdout",
     "output_type": "stream",
     "text": [
      "\n",
      " !\"'(),-.0123456789:;=?ABCDEFGHIJKLMNOPQRSTUVWXYZ[]_abcdefghijklmnopqrstuvwxyz\n",
      "79\n"
     ]
    }
   ],
   "source": [
    "# looking at the unique characters in the file\n",
    "chars = sorted(list(set(text)))\n",
    "vocab_size = len(chars)\n",
    "print(\"\".join(chars))\n",
    "print(vocab_size)"
   ]
  },
  {
   "cell_type": "code",
   "execution_count": 4,
   "id": "c826213c",
   "metadata": {},
   "outputs": [
    {
     "name": "stdout",
     "output_type": "stream",
     "text": [
      "[75, 60, 53, 72, 4, 71, 1, 73, 68, 1, 60, 57, 64, 64, 67, 1, 60, 57, 64, 64, 67]\n",
      "what's up hello hello\n"
     ]
    }
   ],
   "source": [
    "# \"tokenizer\" lol - character level\n",
    "\n",
    "stoi = {ch:i for i, ch in enumerate(chars)} #string to int\n",
    "itos = {i:ch for i, ch in enumerate(chars)} # int to string\n",
    "decode = lambda l: ''.join(itos[i] for i in l)\n",
    "encode = lambda s: [stoi[ch] for ch in s]\n",
    "\n",
    "\n",
    "print(encode(\"what's up hello hello\"))\n",
    "print(decode(encode(\"what's up hello hello\")))"
   ]
  },
  {
   "cell_type": "code",
   "execution_count": 5,
   "id": "8446cd7e",
   "metadata": {},
   "outputs": [
    {
     "name": "stderr",
     "output_type": "stream",
     "text": [
      "c:\\Users\\willi\\Documents\\Projects\\nanoGPT-remake\\.venv\\Lib\\site-packages\\torch\\_subclasses\\functional_tensor.py:279: UserWarning: Failed to initialize NumPy: No module named 'numpy' (Triggered internally at C:\\actions-runner\\_work\\pytorch\\pytorch\\pytorch\\torch\\csrc\\utils\\tensor_numpy.cpp:84.)\n",
      "  cpu = _conversion_method_template(device=torch.device(\"cpu\"))\n"
     ]
    },
    {
     "name": "stdout",
     "output_type": "stream",
     "text": [
      "torch.Size([600885]) torch.int64\n",
      "tensor([39, 41, 28, 29, 24, 26, 28,  0,  0,  0, 42, 44, 39, 39, 38, 42, 32, 37,\n",
      "        30,  1, 72, 60, 53, 72,  1, 43, 70, 73, 72, 60,  1, 61, 71,  1, 53,  1,\n",
      "        75, 67, 65, 53, 66,  8,  8, 75, 60, 53, 72,  1, 72, 60, 57, 66, 23,  1,\n",
      "        32, 71,  1, 72, 60, 57, 70, 57,  1, 66, 67, 72,  1, 59, 70, 67, 73, 66,\n",
      "        56,  0, 58, 67, 70,  1, 71, 73, 71, 68, 57, 55, 72, 61, 66, 59,  1, 72,\n",
      "        60, 53, 72,  1, 53, 64, 64,  1, 68, 60, 61, 64, 67, 71, 67, 68, 60, 57,\n",
      "        70, 71,  7,  1, 61, 66,  1, 71, 67,  1, 58, 53, 70,  1, 53, 71,  1, 72,\n",
      "        60, 57, 77,  1, 60, 53, 74, 57,  1, 54, 57, 57, 66,  0, 56, 67, 59, 65,\n",
      "        53, 72, 61, 71, 72, 71,  7,  1, 60, 53, 74, 57,  1, 58, 53, 61, 64, 57,\n",
      "        56,  1, 72, 67,  1, 73, 66, 56, 57, 70, 71, 72, 53, 66, 56,  1, 75, 67,\n",
      "        65, 57, 66,  8,  8, 72, 60, 53, 72,  1, 72, 60, 57,  1, 72, 57, 70, 70,\n",
      "        61, 54, 64, 57,  0, 71, 57, 70, 61, 67, 73, 71, 66, 57, 71, 71,  1, 53,\n",
      "        66, 56,  1, 55, 64, 73, 65, 71, 77,  1, 61, 65, 68, 67, 70, 72, 73, 66,\n",
      "        61, 72, 77,  1, 75, 61, 72, 60,  1, 75, 60, 61, 55, 60,  1, 72, 60, 57,\n",
      "        77,  1, 60, 53, 74, 57,  1, 73, 71, 73, 53, 64, 64, 77,  1, 68, 53, 61,\n",
      "        56,  0, 72, 60, 57, 61, 70,  1, 53, 56, 56, 70, 57, 71, 71, 57, 71,  1,\n",
      "        72, 67,  1, 43, 70, 73, 72, 60,  7,  1, 60, 53, 74, 57,  1, 54, 57, 57,\n",
      "        66,  1, 73, 66, 71, 63, 61, 64, 64, 57, 56,  1, 53, 66, 56,  1, 73, 66,\n",
      "        71, 57, 57, 65, 64, 77,  1, 65, 57, 72, 60, 67, 56, 71,  1, 58, 67, 70,\n",
      "         0, 75, 61, 66, 66, 61, 66, 59,  1, 53,  1, 75, 67, 65, 53, 66, 23,  1,\n",
      "        26, 57, 70, 72, 53, 61, 66, 64, 77,  1, 71, 60, 57,  1, 60, 53, 71,  1,\n",
      "        66, 57, 74, 57, 70,  1, 53, 64, 64, 67, 75, 57, 56,  1, 60, 57, 70, 71,\n",
      "        57, 64, 58,  1, 72, 67,  1, 54, 57,  1, 75, 67, 66, 21,  1, 53, 66, 56,\n",
      "         0, 53, 72,  1, 68, 70, 57, 71, 57, 66, 72,  1, 57, 74, 57, 70, 77,  1,\n",
      "        63, 61, 66, 56,  1, 67, 58,  1, 56, 67, 59, 65, 53,  1, 71, 72, 53, 66,\n",
      "        56, 71,  1, 75, 61, 72, 60,  1, 71, 53, 56,  1, 53, 66, 56,  1, 56, 61,\n",
      "        71, 55, 67, 73, 70, 53, 59, 57, 56,  1, 65, 61, 57, 66,  8,  8, 32, 29,\n",
      "         7,  0, 61, 66, 56, 57, 57, 56,  7,  1, 61, 72,  1, 71, 72, 53, 66, 56,\n",
      "        71,  1, 53, 72,  1, 53, 64, 64,  2,  1, 29, 67, 70,  1, 72, 60, 57, 70,\n",
      "        57,  1, 53, 70, 57,  1, 71, 55, 67, 58, 58, 57, 70, 71,  1, 75, 60, 67,\n",
      "         1, 65, 53, 61, 66, 72, 53, 61, 66,  1, 72, 60, 53, 72,  1, 61, 72,  0,\n",
      "        60, 53, 71,  1, 58, 53, 64, 64, 57, 66,  7,  1, 72, 60, 53, 72,  1, 53,\n",
      "        64, 64,  1, 56, 67, 59, 65, 53,  1, 64, 61, 57, 71,  1, 67, 66,  1, 72,\n",
      "        60, 57,  1, 59, 70, 67, 73, 66, 56,  8,  8, 66, 53, 77,  1, 65, 67, 70,\n",
      "        57,  7,  1, 72, 60, 53, 72,  1, 61, 72,  1, 61, 71,  1, 53, 72,  0, 61,\n",
      "        72, 71,  1, 64, 53, 71, 72,  1, 59, 53, 71, 68,  9,  1, 25, 73, 72,  1,\n",
      "        72, 67,  1, 71, 68, 57, 53, 63,  1, 71, 57, 70, 61, 67, 73, 71, 64, 77,\n",
      "         7,  1, 72, 60, 57, 70, 57,  1, 53, 70, 57,  1, 59, 67, 67, 56,  1, 59,\n",
      "        70, 67, 73, 66, 56, 71,  1, 58, 67, 70,  1, 60, 67, 68, 61, 66, 59,  0,\n",
      "        72, 60, 53, 72,  1, 53, 64, 64,  1, 56, 67, 59, 65, 53, 72, 61, 78, 61,\n",
      "        66, 59,  1, 61, 66,  1, 68, 60, 61, 64, 67, 71, 67, 68, 60, 77,  7,  1,\n",
      "        75, 60, 53, 72, 57, 74, 57, 70,  1, 71, 67, 64, 57, 65, 66,  7,  1, 75,\n",
      "        60, 53, 72, 57, 74, 57, 70,  1, 55, 67, 66, 55, 64, 73, 71, 61, 74, 57,\n",
      "         0, 53, 66, 56,  1, 56, 57, 55, 61, 56, 57, 56,  1, 53, 61, 70, 71,  1,\n",
      "        61, 72,  1, 60, 53, 71,  1, 53, 71, 71, 73, 65, 57, 56,  7,  1, 65, 53,\n",
      "        77,  1, 60, 53, 74, 57,  1, 54, 57, 57, 66,  1, 67, 66, 64, 77,  1, 53,\n",
      "         1, 66, 67, 54, 64, 57,  1, 68, 73, 57, 70, 61, 64, 61, 71, 65,  0, 53,\n",
      "        66, 56,  1, 72, 77, 70, 67, 66, 61, 71, 65, 21,  1, 53, 66, 56,  1, 68,\n",
      "        70, 67, 54, 53, 54, 64, 77,  1, 72, 60, 57,  1, 72, 61, 65, 57,  1, 61,\n",
      "        71,  1, 53, 72,  1, 60, 53, 66, 56,  1, 75, 60, 57, 66,  1, 61, 72,  1,\n",
      "        75, 61, 64, 64,  1, 54, 57,  1, 67, 66, 55, 57,  0, 53, 66, 56,  1, 53,\n",
      "        59, 53, 61, 66,  1, 73, 66, 56, 57, 70, 71, 72, 67, 67, 56,  1, 46, 31,\n",
      "        24, 43,  1, 60, 53, 71,  1, 53, 55, 72, 73, 53, 64, 64, 77,  1, 71, 73,\n",
      "        58, 58, 61, 55, 57, 56,  1, 58, 67, 70,  1, 72, 60, 57,  1, 54, 53, 71,\n",
      "        61, 71,  1, 67, 58,  1, 71, 73, 55, 60,  0, 61, 65, 68, 67, 71, 61, 66,\n",
      "        59,  1, 53, 66, 56,  1, 53, 54, 71, 67])\n"
     ]
    }
   ],
   "source": [
    "# encoding the entire text file\n",
    "import torch\n",
    "data = torch.tensor(encode(text), dtype=torch.long)\n",
    "print(data.shape, data.dtype)\n",
    "print(data[:1000])"
   ]
  },
  {
   "cell_type": "code",
   "execution_count": 6,
   "id": "dd5f698d",
   "metadata": {},
   "outputs": [],
   "source": [
    "# split data into train and validation sets\n",
    "n = int(0.9*len(data))\n",
    "train_data = data[:n]\n",
    "val_data = data[n:]"
   ]
  },
  {
   "cell_type": "code",
   "execution_count": 7,
   "id": "ecf6db22",
   "metadata": {},
   "outputs": [
    {
     "data": {
      "text/plain": [
       "tensor([39, 41, 28, 29, 24, 26, 28,  0,  0])"
      ]
     },
     "execution_count": 7,
     "metadata": {},
     "output_type": "execute_result"
    }
   ],
   "source": [
    "block_size = 8\n",
    "train_data[:block_size+1]"
   ]
  },
  {
   "cell_type": "code",
   "execution_count": 8,
   "id": "cac0c73b",
   "metadata": {},
   "outputs": [
    {
     "name": "stdout",
     "output_type": "stream",
     "text": [
      "when the input is tensor([39]) the target is 41\n",
      "when the input is tensor([39, 41]) the target is 28\n",
      "when the input is tensor([39, 41, 28]) the target is 29\n",
      "when the input is tensor([39, 41, 28, 29]) the target is 24\n",
      "when the input is tensor([39, 41, 28, 29, 24]) the target is 26\n",
      "when the input is tensor([39, 41, 28, 29, 24, 26]) the target is 28\n",
      "when the input is tensor([39, 41, 28, 29, 24, 26, 28]) the target is 0\n",
      "when the input is tensor([39, 41, 28, 29, 24, 26, 28,  0]) the target is 0\n"
     ]
    }
   ],
   "source": [
    "\n",
    "x = train_data[:block_size]\n",
    "y = train_data[1:block_size+1] # offset by one (the targets)\n",
    "for t in range(block_size):\n",
    "    context = x[:t+1]\n",
    "    target = y[t]\n",
    "    print(f\"when the input is {context} the target is {target}\")"
   ]
  },
  {
   "cell_type": "code",
   "execution_count": 9,
   "id": "7f290d41",
   "metadata": {},
   "outputs": [
    {
     "name": "stdout",
     "output_type": "stream",
     "text": [
      "inputs:\n",
      "torch.Size([4, 8])\n",
      "tensor([[ 0, 65, 61, 59, 60, 72,  1, 57],\n",
      "        [ 8, 53, 55, 72, 73, 53, 64, 64],\n",
      "        [60, 61, 55, 60,  1, 60, 57,  1],\n",
      "        [71, 60, 65, 57, 66, 72,  1, 75]])\n",
      "targets:\n",
      "torch.Size([4, 8])\n",
      "tensor([[65, 61, 59, 60, 72,  1, 57, 74],\n",
      "        [53, 55, 72, 73, 53, 64, 64, 77],\n",
      "        [61, 55, 60,  1, 60, 57,  1, 60],\n",
      "        [60, 65, 57, 66, 72,  1, 75, 60]])\n",
      "-----\n",
      "when input is [0], the target is: 65\n",
      "when input is [0, 65], the target is: 61\n",
      "when input is [0, 65, 61], the target is: 59\n",
      "when input is [0, 65, 61, 59], the target is: 60\n",
      "when input is [0, 65, 61, 59, 60], the target is: 72\n",
      "when input is [0, 65, 61, 59, 60, 72], the target is: 1\n",
      "when input is [0, 65, 61, 59, 60, 72, 1], the target is: 57\n",
      "when input is [0, 65, 61, 59, 60, 72, 1, 57], the target is: 74\n",
      "when input is [8], the target is: 53\n",
      "when input is [8, 53], the target is: 55\n",
      "when input is [8, 53, 55], the target is: 72\n",
      "when input is [8, 53, 55, 72], the target is: 73\n",
      "when input is [8, 53, 55, 72, 73], the target is: 53\n",
      "when input is [8, 53, 55, 72, 73, 53], the target is: 64\n",
      "when input is [8, 53, 55, 72, 73, 53, 64], the target is: 64\n",
      "when input is [8, 53, 55, 72, 73, 53, 64, 64], the target is: 77\n",
      "when input is [60], the target is: 61\n",
      "when input is [60, 61], the target is: 55\n",
      "when input is [60, 61, 55], the target is: 60\n",
      "when input is [60, 61, 55, 60], the target is: 1\n",
      "when input is [60, 61, 55, 60, 1], the target is: 60\n",
      "when input is [60, 61, 55, 60, 1, 60], the target is: 57\n",
      "when input is [60, 61, 55, 60, 1, 60, 57], the target is: 1\n",
      "when input is [60, 61, 55, 60, 1, 60, 57, 1], the target is: 60\n",
      "when input is [71], the target is: 60\n",
      "when input is [71, 60], the target is: 65\n",
      "when input is [71, 60, 65], the target is: 57\n",
      "when input is [71, 60, 65, 57], the target is: 66\n",
      "when input is [71, 60, 65, 57, 66], the target is: 72\n",
      "when input is [71, 60, 65, 57, 66, 72], the target is: 1\n",
      "when input is [71, 60, 65, 57, 66, 72, 1], the target is: 75\n",
      "when input is [71, 60, 65, 57, 66, 72, 1, 75], the target is: 60\n"
     ]
    }
   ],
   "source": [
    "torch.manual_seed(1337)\n",
    "batch_size = 4 # number of independent sequences to process in parallel\n",
    "block_size = 8 # maximum context length for predictions\n",
    "\n",
    "def get_batch(split):\n",
    "    data = train_data if split == \"train\" else val_data\n",
    "    ix = torch.randint(len(data) - block_size, (batch_size,)) # generate random positions to get blocks from\n",
    "    x = torch.stack([data[i : i + block_size] for i in ix])\n",
    "    y = torch.stack([data[i+1 :i + block_size + 1] for i in ix])\n",
    "    return x, y\n",
    "\n",
    "xb, yb = get_batch(\"train\")\n",
    "print('inputs:')\n",
    "print(xb.shape)\n",
    "print(xb)\n",
    "print('targets:')\n",
    "print(yb.shape)\n",
    "print(yb)\n",
    "\n",
    "print('-----')\n",
    "\n",
    "for b in range(batch_size):\n",
    "    for t in range(block_size):\n",
    "        context = xb[b, :t+1]\n",
    "        target = yb[b,t]\n",
    "        print(f'when input is {context.tolist()}, the target is: {target}')"
   ]
  },
  {
   "cell_type": "code",
   "execution_count": 10,
   "id": "8d59ee4a",
   "metadata": {},
   "outputs": [
    {
     "name": "stdout",
     "output_type": "stream",
     "text": [
      "tensor([[ 0, 65, 61, 59, 60, 72,  1, 57],\n",
      "        [ 8, 53, 55, 72, 73, 53, 64, 64],\n",
      "        [60, 61, 55, 60,  1, 60, 57,  1],\n",
      "        [71, 60, 65, 57, 66, 72,  1, 75]])\n",
      "tensor([[65, 61, 59, 60, 72,  1, 57, 74],\n",
      "        [53, 55, 72, 73, 53, 64, 64, 77],\n",
      "        [61, 55, 60,  1, 60, 57,  1, 60],\n",
      "        [60, 65, 57, 66, 72,  1, 75, 60]])\n"
     ]
    }
   ],
   "source": [
    "print(xb) # input to the transformer\n",
    "print(yb)"
   ]
  },
  {
   "cell_type": "code",
   "execution_count": 11,
   "id": "4d553ce6",
   "metadata": {},
   "outputs": [
    {
     "name": "stdout",
     "output_type": "stream",
     "text": [
      "torch.Size([32, 79])\n",
      "tensor(4.6560, grad_fn=<NllLossBackward0>)\n",
      "\n",
      "D0(CHWmYgV7CiL5Q9k]MKC-?'pSZ3RvV4_rgj.4wI;\n",
      "HE.sTbK?(Sd8xk.T2c6n;u-0_ykK?3PQYVIs]o-k nZ!U6fY1vDH5bhcK\n"
     ]
    }
   ],
   "source": [
    "import torch\n",
    "import torch.nn as nn\n",
    "from torch.nn import functional as F\n",
    "torch.manual_seed(1337)\n",
    "\n",
    "class BigramLanguageModel(nn.Module):\n",
    "    def __init__(self, vocab_size):\n",
    "        super().__init__()\n",
    "        # each token directly reads off the logits for the next token from a lookup table\n",
    "        self.token_embedding_table = nn.Embedding(vocab_size, vocab_size)\n",
    "\n",
    "    def forward(self, idx, targets=None):\n",
    "        # idx and targets are both (B, T) tensors of ints\n",
    "        logits = self.token_embedding_table(idx) # (B,T,C)\n",
    "        loss = None\n",
    "        \n",
    "        if targets is not None:\n",
    "            B, T, C = logits.shape\n",
    "            logits = logits.view(B*T, C)\n",
    "            targets = targets.view(B*T)\n",
    "            loss = F.cross_entropy(logits, targets)\n",
    "\n",
    "        return logits, loss\n",
    "    \n",
    "    def generate(self, idx, max_new_tokens):\n",
    "        # idx is (B, T) array of indices in the current context\n",
    "        for _ in range(max_new_tokens):\n",
    "            # get predictions\n",
    "            logits, loss = self(idx)\n",
    "\n",
    "            # last time step\n",
    "            logits = logits[:, -1, :] # now {B, C}\n",
    "\n",
    "            # softmax to get probs\n",
    "            probs = F.softmax(logits, dim=-1) # (B, C)\n",
    "\n",
    "            # sample from the distribution\n",
    "            idx_next = torch.multinomial(probs, num_samples = 1) #(B, 1)\n",
    "\n",
    "            # append sampled index to the running sequence\n",
    "            idx = torch.cat((idx, idx_next), dim=1) #(B, T+1)\n",
    "        return idx\n",
    "    \n",
    "m = BigramLanguageModel(vocab_size)\n",
    "logits, loss = m(xb, yb)\n",
    "print(logits.shape)\n",
    "print(loss)\n",
    "\n",
    "print(decode(m.generate(torch.zeros((1, 1), dtype=torch.long), max_new_tokens=100)[0].tolist()))"
   ]
  },
  {
   "cell_type": "markdown",
   "id": "59a37388",
   "metadata": {},
   "source": [
    "# Training the model"
   ]
  },
  {
   "cell_type": "code",
   "execution_count": 12,
   "id": "70c31d86",
   "metadata": {},
   "outputs": [],
   "source": [
    "# PyTorch optimizer\n",
    "optimizer = torch.optim.AdamW(m.parameters(), lr=1e-3)"
   ]
  },
  {
   "cell_type": "code",
   "execution_count": 13,
   "id": "5fe428dc",
   "metadata": {},
   "outputs": [
    {
     "name": "stdout",
     "output_type": "stream",
     "text": [
      "2.4293577671051025\n"
     ]
    }
   ],
   "source": [
    "batch_size = 32\n",
    "for steps in range(10000):\n",
    "    # sample a batch of data\n",
    "    xb, yb = get_batch('train')\n",
    "    logits, loss = m(xb, yb)\n",
    "    optimizer.zero_grad(set_to_none=True)\n",
    "    loss.backward()\n",
    "    optimizer.step()\n",
    "\n",
    "print(loss.item())"
   ]
  },
  {
   "cell_type": "code",
   "execution_count": 14,
   "id": "37a35976",
   "metadata": {},
   "outputs": [
    {
     "name": "stdout",
     "output_type": "stream",
     "text": [
      "\n",
      "ees te, thechis\n",
      "stawey),\n",
      "s temas--atos Onound wof at of n andiouangeanalin t, sond: fathe---ke Aniod\n",
      "atatism-h A\n",
      " s rt poe owe pinde, tushes fofse ngeandunof hanjestith a\n",
      "owo resy pld d fis tincthets wocheio ouriolelel avequpe o cre'sid abe thend juton\n",
      "itecelore t aintonoupast ong d dellondoler ir, andincan ablly  tefong, fild de ar inche-ind gus\n",
      "Chenge s impoul Phiushenoulwhe at of thy w IOUUNIFTEut wiststzZin t \"NANCHERurrthe soby bma on ce thalll bey; n he \"the s it hit t. lath TISt\"gribuppri\n"
     ]
    }
   ],
   "source": [
    "print(decode(m.generate(torch.zeros((1, 1), dtype=torch.long), max_new_tokens=500)[0].tolist()))"
   ]
  },
  {
   "cell_type": "code",
   "execution_count": 24,
   "id": "0c8d319b",
   "metadata": {},
   "outputs": [
    {
     "data": {
      "text/plain": [
       "torch.Size([4, 8, 16])"
      ]
     },
     "execution_count": 24,
     "metadata": {},
     "output_type": "execute_result"
    }
   ],
   "source": [
    "# self attention\n",
    "\n",
    "import torch\n",
    "from torch.nn import functional as F\n",
    "import torch.nn as nn\n",
    "\n",
    "B, T, C = 4, 8, 32\n",
    "x = torch.randn(B, T, C)\n",
    "\n",
    "# single head of self-attn\n",
    "head_size = 16\n",
    "key = nn.Linear(C, head_size, bias=False)\n",
    "query = nn.Linear(C, head_size, bias=False)\n",
    "value = nn.Linear(C, head_size, bias=False)\n",
    "k = key(x)      # (B, T, 16)\n",
    "q = query(x)    # (B, T, 16)\n",
    "wei = q @ k.transpose(-2, -1) # (B, T, 16) @ (B, 16, T) --> (B, T, T)\n",
    "\n",
    "tril = torch.tril(torch.ones(T, T))\n",
    "# wei = torch.zeros(T, T)\n",
    "wei = wei.masked_fill(tril == 0, float('-inf'))\n",
    "wei = F.softmax(wei, dim=-1)\n",
    "\n",
    "\n",
    "v = value(x)\n",
    "out = wei @ v\n",
    "# out = wei @ x\n",
    "\n",
    "out.shape"
   ]
  },
  {
   "cell_type": "code",
   "execution_count": 25,
   "id": "0ea6a35e",
   "metadata": {},
   "outputs": [
    {
     "data": {
      "text/plain": [
       "tensor([[[1.0000, 0.0000, 0.0000, 0.0000, 0.0000, 0.0000, 0.0000, 0.0000],\n",
       "         [0.8019, 0.1981, 0.0000, 0.0000, 0.0000, 0.0000, 0.0000, 0.0000],\n",
       "         [0.1866, 0.2450, 0.5684, 0.0000, 0.0000, 0.0000, 0.0000, 0.0000],\n",
       "         [0.1213, 0.1005, 0.6529, 0.1253, 0.0000, 0.0000, 0.0000, 0.0000],\n",
       "         [0.1295, 0.1562, 0.2298, 0.2257, 0.2587, 0.0000, 0.0000, 0.0000],\n",
       "         [0.2079, 0.0302, 0.0549, 0.0984, 0.2030, 0.4056, 0.0000, 0.0000],\n",
       "         [0.0634, 0.0507, 0.6594, 0.0628, 0.0176, 0.1300, 0.0161, 0.0000],\n",
       "         [0.1664, 0.1406, 0.0419, 0.0267, 0.5736, 0.0095, 0.0098, 0.0317]],\n",
       "\n",
       "        [[1.0000, 0.0000, 0.0000, 0.0000, 0.0000, 0.0000, 0.0000, 0.0000],\n",
       "         [0.0407, 0.9593, 0.0000, 0.0000, 0.0000, 0.0000, 0.0000, 0.0000],\n",
       "         [0.5542, 0.3894, 0.0564, 0.0000, 0.0000, 0.0000, 0.0000, 0.0000],\n",
       "         [0.1062, 0.4853, 0.1910, 0.2175, 0.0000, 0.0000, 0.0000, 0.0000],\n",
       "         [0.1472, 0.5470, 0.0707, 0.0985, 0.1366, 0.0000, 0.0000, 0.0000],\n",
       "         [0.0964, 0.0546, 0.0986, 0.1072, 0.3168, 0.3265, 0.0000, 0.0000],\n",
       "         [0.0153, 0.1611, 0.0149, 0.0753, 0.0606, 0.0641, 0.6087, 0.0000],\n",
       "         [0.0743, 0.0605, 0.0475, 0.0329, 0.1532, 0.0412, 0.5295, 0.0610]],\n",
       "\n",
       "        [[1.0000, 0.0000, 0.0000, 0.0000, 0.0000, 0.0000, 0.0000, 0.0000],\n",
       "         [0.5491, 0.4509, 0.0000, 0.0000, 0.0000, 0.0000, 0.0000, 0.0000],\n",
       "         [0.1798, 0.1968, 0.6234, 0.0000, 0.0000, 0.0000, 0.0000, 0.0000],\n",
       "         [0.3125, 0.1615, 0.1402, 0.3858, 0.0000, 0.0000, 0.0000, 0.0000],\n",
       "         [0.1127, 0.0167, 0.6032, 0.1873, 0.0800, 0.0000, 0.0000, 0.0000],\n",
       "         [0.1228, 0.2558, 0.1724, 0.1737, 0.2293, 0.0460, 0.0000, 0.0000],\n",
       "         [0.0387, 0.1317, 0.0595, 0.0138, 0.0245, 0.3936, 0.3382, 0.0000],\n",
       "         [0.0980, 0.0667, 0.1389, 0.0229, 0.0879, 0.2104, 0.3164, 0.0589]],\n",
       "\n",
       "        [[1.0000, 0.0000, 0.0000, 0.0000, 0.0000, 0.0000, 0.0000, 0.0000],\n",
       "         [0.0949, 0.9051, 0.0000, 0.0000, 0.0000, 0.0000, 0.0000, 0.0000],\n",
       "         [0.1211, 0.6360, 0.2429, 0.0000, 0.0000, 0.0000, 0.0000, 0.0000],\n",
       "         [0.5557, 0.0148, 0.0194, 0.4100, 0.0000, 0.0000, 0.0000, 0.0000],\n",
       "         [0.0255, 0.0081, 0.0051, 0.0384, 0.9228, 0.0000, 0.0000, 0.0000],\n",
       "         [0.0294, 0.0070, 0.0550, 0.0067, 0.6869, 0.2150, 0.0000, 0.0000],\n",
       "         [0.0163, 0.7636, 0.0160, 0.1699, 0.0060, 0.0133, 0.0148, 0.0000],\n",
       "         [0.0314, 0.2069, 0.0432, 0.5158, 0.0267, 0.0214, 0.1501, 0.0046]]],\n",
       "       grad_fn=<SoftmaxBackward0>)"
      ]
     },
     "execution_count": 25,
     "metadata": {},
     "output_type": "execute_result"
    }
   ],
   "source": [
    "wei\n"
   ]
  }
 ],
 "metadata": {
  "kernelspec": {
   "display_name": "nanogpt-remake",
   "language": "python",
   "name": "python3"
  },
  "language_info": {
   "codemirror_mode": {
    "name": "ipython",
    "version": 3
   },
   "file_extension": ".py",
   "mimetype": "text/x-python",
   "name": "python",
   "nbconvert_exporter": "python",
   "pygments_lexer": "ipython3",
   "version": "3.14.0"
  }
 },
 "nbformat": 4,
 "nbformat_minor": 5
}
